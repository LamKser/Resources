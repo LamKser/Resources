{
 "cells": [
  {
   "cell_type": "markdown",
   "metadata": {},
   "source": [
    "# Anaconda"
   ]
  },
  {
   "cell_type": "code",
   "execution_count": null,
   "metadata": {},
   "outputs": [],
   "source": [
    "!conda create -n environment_name python=python_version\n",
    "!conda env remove --name environment_name"
   ]
  },
  {
   "cell_type": "markdown",
   "metadata": {},
   "source": [
    "# Colab"
   ]
  },
  {
   "cell_type": "code",
   "execution_count": null,
   "metadata": {},
   "outputs": [],
   "source": [
    "# Mount to another gg drive account\n",
    "# Link: https://stackoverflow.com/questions/71695387/connecting-to-a-different-google-drive-than-the-one-logged-into-google-colab\n",
    "# Step 1\n",
    "!sudo add-apt-repository ppa:alessandro-strada/ppa\n",
    "!sudo apt update\n",
    "!sudo apt install google-drive-ocamlfuse\n",
    "!google-drive-ocamlfuse\n",
    "# --> Click to the url: Failure: <url>\n",
    "# Step 2\n",
    "!sudo apt-get install w3m # to act as web browser \n",
    "!xdg-settings set default-web-browser w3m.desktop # to set default browser \n",
    "%cd /content\n",
    "!mkdir drive\n",
    "%cd drive\n",
    "!mkdir \"MyDrive\"\n",
    "!google-drive-ocamlfuse \"/content/drive/MyDrive\""
   ]
  },
  {
   "cell_type": "markdown",
   "metadata": {},
   "source": [
    "# Label Studio"
   ]
  },
  {
   "cell_type": "markdown",
   "metadata": {},
   "source": [
    "set LABEL_STUDIO_LOCAL_FILES_SERVING_ENABLED=true\n",
    "set LABEL_STUDIO_LOCAL_FILES_DOCUMENT_ROOT=absolute_path\n",
    "set LABEL_STUDIO_LOCAL_FILES_DOCUMENT_ROOT=absolute_path\n",
    "# D:\\DataSet\\Receipt\\Vietnamese_Receipt\n",
    "# D:\\DataSet\\Receipt\\mocr2021\n",
    "label-studio start\n"
   ]
  }
 ],
 "metadata": {
  "language_info": {
   "name": "python"
  }
 },
 "nbformat": 4,
 "nbformat_minor": 2
}
